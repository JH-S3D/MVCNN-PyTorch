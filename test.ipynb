{
 "cells": [
  {
   "cell_type": "code",
   "execution_count": null,
   "metadata": {},
   "outputs": [],
   "source": [
    "import torch\n",
    "import torch.nn as nn\n",
    "import torch.optim as optim\n",
    "import torch.utils\n",
    "from torch.utils.data import DataLoader\n",
    "import torchvision.transforms as transforms\n",
    "from models.img_autoencoder import ConvAutoencoder\n",
    "import numpy as np\n",
    "import matplotlib.pyplot as plt\n",
    "\n",
    "from custom_dataset import MultiViewDataSet\n",
    "\n",
    "data_transforms = {\n",
    "        'train': transforms.Compose([\n",
    "            #transforms.Grayscale(num_output_channels=1),\n",
    "            transforms.Resize(256),\n",
    "            transforms.CenterCrop(224),\n",
    "            transforms.ToTensor(),\n",
    "        ]),\n",
    "        'test': transforms.Compose([\n",
    "            #transforms.Grayscale(num_output_channels=1),\n",
    "            transforms.Resize(256),\n",
    "            transforms.CenterCrop(224),\n",
    "            transforms.ToTensor(),\n",
    "        ]),\n",
    "    }\n",
    "\n",
    "data_dir = 'C:\\\\Users\\\\Disruptive\\\\Documents\\\\MachineLearning\\\\datasets\\\\mvcnn\\\\modelnet40_images_new_12x'#'/home/user/repo/modelnet40_images_new_12x'\n",
    "image_datasets = {x: MultiViewDataSet(root=data_dir, data_type=x, transform=data_transforms[x])\n",
    "                    for x in ['train', 'test']}\n",
    "dataloaders = {x: DataLoader(image_datasets[x], shuffle=True, batch_size=1, num_workers=4)\n",
    "                for x in ['train', 'test']}\n",
    "\n",
    "# defining the device\n",
    "device = torch.device(\"cuda\" if torch.cuda.is_available() else \"cpu\")\n",
    "\n",
    "# defining the model\n",
    "convAE_model = ConvAutoencoder().to(device)\n",
    "convAE_model.load_state_dict(torch.load(\"C:\\\\Users\\\\Disruptive\\\\Documents\\\\MachineLearning\\\\results\\\\MVCNN-PyTorch\\\\model_21.pth\"))"
   ]
  },
  {
   "cell_type": "code",
   "execution_count": null,
   "metadata": {},
   "outputs": [],
   "source": [
    "convAE_model.eval()\n",
    "\n",
    "for X, y in dataloaders['test']:\n",
    "        img = X[0].to(device)\n",
    "    \n",
    "        recon = convAE_model(img)\n",
    "\n",
    "        fig, axes = plt.subplots(1, 2, figsize=(15, 5))\n",
    "        axes[0].imshow(X[0][0].permute(1, 2, 0).numpy())\n",
    "        axes[1].imshow(recon.cpu().detach()[0].permute(1, 2, 0).numpy())\n",
    "\n",
    "        plt.pause(0.001)\n",
    "        plt.show()"
   ]
  }
 ],
 "metadata": {
  "kernelspec": {
   "display_name": "Python 3",
   "language": "python",
   "name": "python3"
  },
  "language_info": {
   "codemirror_mode": {
    "name": "ipython",
    "version": 3
   },
   "file_extension": ".py",
   "mimetype": "text/x-python",
   "name": "python",
   "nbconvert_exporter": "python",
   "pygments_lexer": "ipython3",
   "version": "3.11.4"
  }
 },
 "nbformat": 4,
 "nbformat_minor": 2
}
